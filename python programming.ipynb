{
 "cells": [
  {
   "cell_type": "markdown",
   "metadata": {},
   "source": [
    "# introduction to phython programming"
   ]
  },
  {
   "cell_type": "markdown",
   "metadata": {},
   "source": [
    "# markdown"
   ]
  },
  {
   "cell_type": "markdown",
   "metadata": {},
   "source": [
    "# markdown"
   ]
  },
  {
   "cell_type": "markdown",
   "metadata": {},
   "source": [
    "## markdown"
   ]
  },
  {
   "cell_type": "code",
   "execution_count": 2,
   "metadata": {},
   "outputs": [
    {
     "data": {
      "text/plain": [
       "'i am rithvik'"
      ]
     },
     "execution_count": 2,
     "metadata": {},
     "output_type": "execute_result"
    }
   ],
   "source": [
    "\"i am rithvik\""
   ]
  },
  {
   "cell_type": "markdown",
   "metadata": {},
   "source": [
    "\"i am rithvik\""
   ]
  },
  {
   "cell_type": "markdown",
   "metadata": {},
   "source": [
    "* \"i am rithvik\""
   ]
  },
  {
   "cell_type": "markdown",
   "metadata": {},
   "source": [
    "* * \"my name is rithvik\""
   ]
  },
  {
   "cell_type": "markdown",
   "metadata": {},
   "source": [
    "rithvik"
   ]
  },
  {
   "cell_type": "markdown",
   "metadata": {},
   "source": [
    "* normal text--sub"
   ]
  },
  {
   "cell_type": "markdown",
   "metadata": {},
   "source": [
    "![image](data:image/png;base64,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)"
   ]
  },
  {
   "cell_type": "markdown",
   "metadata": {},
   "source": [
    "[drive](https://drive.google.com/drive/my-drive)"
   ]
  },
  {
   "cell_type": "code",
   "execution_count": 7,
   "metadata": {},
   "outputs": [
    {
     "name": "stdout",
     "output_type": "stream",
     "text": [
      "hello world\n"
     ]
    }
   ],
   "source": [
    "print(\"hello world\")"
   ]
  },
  {
   "cell_type": "code",
   "execution_count": 8,
   "metadata": {},
   "outputs": [
    {
     "name": "stdout",
     "output_type": "stream",
     "text": [
      "hello world\n",
      "this is rithvik\n"
     ]
    }
   ],
   "source": [
    "print(\"hello world\")\n",
    "print(\"this is rithvik\")"
   ]
  },
  {
   "cell_type": "code",
   "execution_count": 9,
   "metadata": {},
   "outputs": [
    {
     "name": "stdout",
     "output_type": "stream",
     "text": [
      "hellogitamhi\n"
     ]
    }
   ],
   "source": [
    "print(\"hello\",end=\"gitam\")\n",
    "print(\"hi\")"
   ]
  },
  {
   "cell_type": "code",
   "execution_count": 10,
   "metadata": {},
   "outputs": [
    {
     "name": "stdout",
     "output_type": "stream",
     "text": [
      "6\n"
     ]
    }
   ],
   "source": [
    "a=2\n",
    "b=4\n",
    "c=a+b\n",
    "print(c)"
   ]
  },
  {
   "cell_type": "code",
   "execution_count": 11,
   "metadata": {},
   "outputs": [
    {
     "data": {
      "text/plain": [
       "int"
      ]
     },
     "execution_count": 11,
     "metadata": {},
     "output_type": "execute_result"
    }
   ],
   "source": [
    "a = \"python\"\n",
    "b = \"p\"\n",
    "type(a)\n",
    "c=10\n",
    "type(c)"
   ]
  },
  {
   "cell_type": "code",
   "execution_count": 12,
   "metadata": {},
   "outputs": [
    {
     "data": {
      "text/plain": [
       "float"
      ]
     },
     "execution_count": 12,
     "metadata": {},
     "output_type": "execute_result"
    }
   ],
   "source": [
    "a=10.5\n",
    "type(a)"
   ]
  },
  {
   "cell_type": "code",
   "execution_count": 13,
   "metadata": {},
   "outputs": [
    {
     "name": "stdout",
     "output_type": "stream",
     "text": [
      "<class 'float'>\n"
     ]
    },
    {
     "data": {
      "text/plain": [
       "65656688"
      ]
     },
     "execution_count": 13,
     "metadata": {},
     "output_type": "execute_result"
    }
   ],
   "source": [
    "a=10.5\n",
    "print(type(a))\n",
    "id(a)"
   ]
  },
  {
   "cell_type": "code",
   "execution_count": 1,
   "metadata": {},
   "outputs": [
    {
     "name": "stdout",
     "output_type": "stream",
     "text": [
      "my name is rithvik and age is 20\n"
     ]
    }
   ],
   "source": [
    "name = \"rithvik\"\n",
    "age = \"20\"\n",
    "print(\"my name is\",name,\"and age is\",age)"
   ]
  },
  {
   "cell_type": "code",
   "execution_count": 3,
   "metadata": {},
   "outputs": [
    {
     "name": "stdout",
     "output_type": "stream",
     "text": [
      "enter the string2\n",
      "enter a number2\n",
      "22\n"
     ]
    }
   ],
   "source": [
    "a=input(\"enter the string\")\n",
    "b=input(\"enter a number\")\n",
    "c=a+b\n",
    "print(c)"
   ]
  },
  {
   "cell_type": "code",
   "execution_count": 7,
   "metadata": {},
   "outputs": [
    {
     "name": "stdout",
     "output_type": "stream",
     "text": [
      "enter a number20\n",
      "enter a number40\n",
      "60\n"
     ]
    }
   ],
   "source": [
    "a=int(input(\"enter a number\"))\n",
    "b=int(input(\"enter a number\"))\n",
    "c=a+b\n",
    "print(c)"
   ]
  },
  {
   "cell_type": "code",
   "execution_count": 8,
   "metadata": {},
   "outputs": [
    {
     "name": "stdout",
     "output_type": "stream",
     "text": [
      "10\n"
     ]
    },
    {
     "data": {
      "text/plain": [
       "int"
      ]
     },
     "execution_count": 8,
     "metadata": {},
     "output_type": "execute_result"
    }
   ],
   "source": [
    "x=10\n",
    "print(x)\n",
    "type(x)\n"
   ]
  },
  {
   "cell_type": "code",
   "execution_count": 9,
   "metadata": {},
   "outputs": [
    {
     "data": {
      "text/plain": [
       "(12+0j)"
      ]
     },
     "execution_count": 9,
     "metadata": {},
     "output_type": "execute_result"
    }
   ],
   "source": [
    "x=complex(12)\n",
    "x"
   ]
  },
  {
   "cell_type": "markdown",
   "metadata": {},
   "source": [
    "# operators"
   ]
  },
  {
   "cell_type": "code",
   "execution_count": 10,
   "metadata": {},
   "outputs": [
    {
     "name": "stdout",
     "output_type": "stream",
     "text": [
      "(3+5j)\n",
      "(-1-1j)\n",
      "(-4+7j)\n"
     ]
    }
   ],
   "source": [
    "c1=1+2j\n",
    "c2=2+3j\n",
    "print(c1+c2)\n",
    "print(c1-c2)\n",
    "print(c1*c2)"
   ]
  },
  {
   "cell_type": "code",
   "execution_count": 11,
   "metadata": {},
   "outputs": [
    {
     "data": {
      "text/plain": [
       "bool"
      ]
     },
     "execution_count": 11,
     "metadata": {},
     "output_type": "execute_result"
    }
   ],
   "source": [
    "a=True\n",
    "type(a)"
   ]
  },
  {
   "cell_type": "code",
   "execution_count": 12,
   "metadata": {},
   "outputs": [
    {
     "data": {
      "text/plain": [
       "False"
      ]
     },
     "execution_count": 12,
     "metadata": {},
     "output_type": "execute_result"
    }
   ],
   "source": [
    "a>b"
   ]
  },
  {
   "cell_type": "code",
   "execution_count": 15,
   "metadata": {},
   "outputs": [
    {
     "data": {
      "text/plain": [
       "True"
      ]
     },
     "execution_count": 15,
     "metadata": {},
     "output_type": "execute_result"
    }
   ],
   "source": [
    "a<b"
   ]
  },
  {
   "cell_type": "code",
   "execution_count": 16,
   "metadata": {},
   "outputs": [
    {
     "name": "stdout",
     "output_type": "stream",
     "text": [
      "abc\n"
     ]
    },
    {
     "data": {
      "text/plain": [
       "'abc'"
      ]
     },
     "execution_count": 16,
     "metadata": {},
     "output_type": "execute_result"
    }
   ],
   "source": [
    "s1='abc'\n",
    "s2=\"abc\"\n",
    "print(s1)\n",
    "s2"
   ]
  },
  {
   "cell_type": "code",
   "execution_count": 17,
   "metadata": {},
   "outputs": [
    {
     "data": {
      "text/plain": [
       "str"
      ]
     },
     "execution_count": 17,
     "metadata": {},
     "output_type": "execute_result"
    }
   ],
   "source": [
    "type(s1)\n",
    "type(s2)"
   ]
  },
  {
   "cell_type": "code",
   "execution_count": 18,
   "metadata": {},
   "outputs": [
    {
     "name": "stdout",
     "output_type": "stream",
     "text": [
      "<class 'int'>\n"
     ]
    }
   ],
   "source": [
    "i=100\n",
    "print(type(1))\n"
   ]
  },
  {
   "cell_type": "code",
   "execution_count": 19,
   "metadata": {},
   "outputs": [
    {
     "name": "stdout",
     "output_type": "stream",
     "text": [
      "100\n"
     ]
    },
    {
     "data": {
      "text/plain": [
       "str"
      ]
     },
     "execution_count": 19,
     "metadata": {},
     "output_type": "execute_result"
    }
   ],
   "source": [
    "s1=str(i)\n",
    "print(s1)\n",
    "type(s1)\n"
   ]
  },
  {
   "cell_type": "code",
   "execution_count": 20,
   "metadata": {},
   "outputs": [
    {
     "name": "stdout",
     "output_type": "stream",
     "text": [
      "100.0\n"
     ]
    }
   ],
   "source": [
    "f1=float(i)\n",
    "print(f1)"
   ]
  },
  {
   "cell_type": "code",
   "execution_count": 21,
   "metadata": {},
   "outputs": [
    {
     "name": "stdout",
     "output_type": "stream",
     "text": [
      "(100+0j)\n"
     ]
    }
   ],
   "source": [
    "c1=complex(i)\n",
    "print(c1)"
   ]
  },
  {
   "cell_type": "code",
   "execution_count": 22,
   "metadata": {},
   "outputs": [
    {
     "name": "stdout",
     "output_type": "stream",
     "text": [
      "<class 'int'>\n"
     ]
    }
   ],
   "source": [
    "s=100\n",
    "print(type(s))\n"
   ]
  },
  {
   "cell_type": "code",
   "execution_count": 23,
   "metadata": {},
   "outputs": [
    {
     "data": {
      "text/plain": [
       "int"
      ]
     },
     "execution_count": 23,
     "metadata": {},
     "output_type": "execute_result"
    }
   ],
   "source": [
    "a=int(s)\n",
    "type(a)"
   ]
  },
  {
   "cell_type": "code",
   "execution_count": 24,
   "metadata": {},
   "outputs": [
    {
     "data": {
      "text/plain": [
       "float"
      ]
     },
     "execution_count": 24,
     "metadata": {},
     "output_type": "execute_result"
    }
   ],
   "source": [
    "f=2.3\n",
    "type(f)"
   ]
  },
  {
   "cell_type": "code",
   "execution_count": 25,
   "metadata": {},
   "outputs": [
    {
     "data": {
      "text/plain": [
       "int"
      ]
     },
     "execution_count": 25,
     "metadata": {},
     "output_type": "execute_result"
    }
   ],
   "source": [
    "a1=int(f)\n",
    "type(a1)"
   ]
  },
  {
   "cell_type": "code",
   "execution_count": 26,
   "metadata": {},
   "outputs": [
    {
     "data": {
      "text/plain": [
       "6"
      ]
     },
     "execution_count": 26,
     "metadata": {},
     "output_type": "execute_result"
    }
   ],
   "source": [
    "a='123456'\n",
    "len(a)"
   ]
  },
  {
   "cell_type": "code",
   "execution_count": 32,
   "metadata": {},
   "outputs": [
    {
     "data": {
      "text/plain": [
       "4"
      ]
     },
     "execution_count": 32,
     "metadata": {},
     "output_type": "execute_result"
    }
   ],
   "source": [
    "a='10.5'\n",
    "len(a)"
   ]
  },
  {
   "cell_type": "code",
   "execution_count": 28,
   "metadata": {},
   "outputs": [
    {
     "name": "stdout",
     "output_type": "stream",
     "text": [
      "3\n",
      "-1\n",
      "2\n",
      "0.5\n",
      "1\n",
      "0\n",
      "1\n"
     ]
    }
   ],
   "source": [
    "a=1\n",
    "b=2\n",
    "print(a+b)\n",
    "print(a-b)\n",
    "print(a*b)\n",
    "print(a/b)\n",
    "print(a%b)\n",
    "print(a//b)\n",
    "print(a**b)"
   ]
  },
  {
   "cell_type": "markdown",
   "metadata": {},
   "source": [
    "# logical operators"
   ]
  },
  {
   "cell_type": "code",
   "execution_count": 29,
   "metadata": {},
   "outputs": [
    {
     "name": "stdout",
     "output_type": "stream",
     "text": [
      "False\n",
      "True\n",
      "False\n"
     ]
    }
   ],
   "source": [
    "x=4\n",
    "y=5\n",
    "print(x>=5 and x<10)\n",
    "print(y>=5 and y<10)\n",
    "print(not(x))"
   ]
  },
  {
   "cell_type": "markdown",
   "metadata": {},
   "source": [
    "# relational operators"
   ]
  },
  {
   "cell_type": "code",
   "execution_count": 30,
   "metadata": {},
   "outputs": [
    {
     "name": "stdout",
     "output_type": "stream",
     "text": [
      "True\n"
     ]
    }
   ],
   "source": [
    "a=2\n",
    "b=4\n",
    "print(a!=b)"
   ]
  },
  {
   "cell_type": "markdown",
   "metadata": {},
   "source": [
    "# conditional operator"
   ]
  },
  {
   "cell_type": "markdown",
   "metadata": {},
   "source": [
    "* * if\n",
    "* * elif \n",
    "* * else"
   ]
  },
  {
   "cell_type": "code",
   "execution_count": 3,
   "metadata": {},
   "outputs": [
    {
     "name": "stdout",
     "output_type": "stream",
     "text": [
      "a is positive\n"
     ]
    }
   ],
   "source": [
    "a=10\n",
    "if a>0:\n",
    "    print(\"a is positive\")\n",
    "elif a<0:\n",
    "    print(\"a is negative\")\n",
    "else:\n",
    "    print(\"doesnot exist\")"
   ]
  },
  {
   "cell_type": "markdown",
   "metadata": {},
   "source": []
  },
  {
   "cell_type": "code",
   "execution_count": null,
   "metadata": {},
   "outputs": [],
   "source": []
  }
 ],
 "metadata": {
  "kernelspec": {
   "display_name": "Python 3",
   "language": "python",
   "name": "python3"
  },
  "language_info": {
   "codemirror_mode": {
    "name": "ipython",
    "version": 3
   },
   "file_extension": ".py",
   "mimetype": "text/x-python",
   "name": "python",
   "nbconvert_exporter": "python",
   "pygments_lexer": "ipython3",
   "version": "3.7.3"
  }
 },
 "nbformat": 4,
 "nbformat_minor": 2
}
